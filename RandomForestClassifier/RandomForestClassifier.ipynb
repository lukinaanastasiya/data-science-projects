{
 "cells": [
  {
   "cell_type": "code",
   "execution_count": 1,
   "metadata": {},
   "outputs": [],
   "source": [
    "import warnings\n",
    "warnings.filterwarnings(\"ignore\")\n",
    "import numpy as np\n",
    "import math\n",
    "import pandas as pd\n",
    "from sklearn.tree import DecisionTreeClassifier\n",
    "from sklearn.model_selection import train_test_split\n",
    "from sklearn.base import BaseEstimator\n",
    "from sklearn.model_selection import cross_val_score\n",
    "from sklearn.datasets import make_classification, make_regression, load_digits, load_boston, load_iris\n",
    "from sklearn.metrics import accuracy_score, mean_squared_error\n",
    "from sklearn.ensemble import RandomForestClassifier"
   ]
  },
  {
   "cell_type": "code",
   "execution_count": 2,
   "metadata": {},
   "outputs": [],
   "source": [
    "RANDOM_STATE = 17"
   ]
  },
  {
   "cell_type": "markdown",
   "metadata": {},
   "source": [
    "To built Random Forest:\n",
    "- In the `fit` method in the loop (`i` from 0 to `n_estimators-1`), fix the seed equal to (`random_state + i`). The idea is that at each iteration there's a new value of random seed to add more \"randomness\", but at hte same time results are reproducible\n",
    "- After fixing the seed, select `max_features` features **without replacement**, save the list of selected feature ids in `self.feat_ids_by_tree`\n",
    "- Also make a bootstrap sample (i.e. **sampling with replacement**) of training instances. For that, resort to `np.random.choice` and its argument `replace`\n",
    "- Train a decision tree with specified (in a constructor) arguments `max_depth`, `max_features` and `random_state` (do not specify `class_weight`) on a corresponding subset of training data. \n",
    "- The `fit` method returns the current instance of the class `RandomForestClassifierCustom`, that is `self`\n",
    "- In the `predict_proba` method, we need to loop through all the trees. For each prediction, obviously, we need to take only those features which we used for training the corresponding tree. The method returns predicted probabilities (`predict_proba`), averaged for all trees"
   ]
  },
  {
   "cell_type": "code",
   "execution_count": 3,
   "metadata": {},
   "outputs": [],
   "source": [
    "class MyRandomForestClassifier(BaseEstimator):\n",
    "    def __init__(self, n_estimators=10, max_depth=10, max_features=10, random_state=RANDOM_STATE):\n",
    "        self.n_estimators = n_estimators\n",
    "        self.max_depth = max_depth\n",
    "        self.max_features = max_features\n",
    "        self.random_state = random_state\n",
    "        \n",
    "        self.trees = []\n",
    "        self.feat_ids_by_tree = []\n",
    "        \n",
    "    def fit(self, X, y):\n",
    "        for i in range(self.n_estimators):\n",
    "            np.random.seed(self.random_state + i)\n",
    "            col_indices = np.random.choice(range(X.columns.shape[0]), size = self.max_features, replace = True)\n",
    "            self.feat_ids_by_tree.append(col_indices)\n",
    "            row_indices = np.random.randint(0,len(X), size=len(X))\n",
    "            sample_X = X.iloc[row_indices,col_indices]\n",
    "            sample_y = y[row_indices] \n",
    "            dt = DecisionTreeClassifier(max_depth=self.max_depth,max_features=self.max_features, random_state=self.random_state)\n",
    "            dt.fit(sample_X,sample_y)\n",
    "            self.trees.append(dt)\n",
    "        return self\n",
    "    \n",
    "    def predict_proba(self, X):\n",
    "        prediction = None\n",
    "        for ti, tree in enumerate(self.trees):\n",
    "            indices = self.feat_ids_by_tree[ti]\n",
    "            sample_X = X.iloc[:,indices]\n",
    "            if prediction is None:\n",
    "                prediction = tree.predict_proba(sample_X)\n",
    "            else:\n",
    "                prediction += tree.predict_proba(sample_X)\n",
    "        return prediction/len(self.trees)"
   ]
  },
  {
   "cell_type": "markdown",
   "metadata": {},
   "source": [
    "Use credit scoring dataset"
   ]
  },
  {
   "cell_type": "code",
   "execution_count": 4,
   "metadata": {},
   "outputs": [],
   "source": [
    "data = pd.read_csv(\"../credit_scoring_sample.csv\", sep = \";\")"
   ]
  },
  {
   "cell_type": "code",
   "execution_count": 5,
   "metadata": {},
   "outputs": [],
   "source": [
    "independent_columns_names = data.columns.values\n",
    "independent_columns_names = [x for x in data if x != 'SeriousDlqin2yrs']\n",
    "independent_columns_names\n",
    "for col in data.columns:\n",
    "        data[col]= data[col].fillna(data[col].median())\n",
    "X = data[independent_columns_names]\n",
    "y = data['SeriousDlqin2yrs']"
   ]
  },
  {
   "cell_type": "markdown",
   "metadata": {},
   "source": [
    "Calculate the average ROC AUC for cross-validation for our written RF"
   ]
  },
  {
   "cell_type": "code",
   "execution_count": 9,
   "metadata": {},
   "outputs": [
    {
     "name": "stdout",
     "output_type": "stream",
     "text": [
      "0.8305086051215925\n"
     ]
    }
   ],
   "source": [
    "rf = MyRandomForestClassifier(max_depth=7, max_features=6)\n",
    "rf.fit(X,y)\n",
    "print(np.mean(cross_val_score(rf, X, y.values, scoring='roc_auc')))"
   ]
  },
  {
   "cell_type": "markdown",
   "metadata": {},
   "source": [
    "Calculate the average ROC AUC for cross-validation for sklearn RF"
   ]
  },
  {
   "cell_type": "code",
   "execution_count": 7,
   "metadata": {},
   "outputs": [
    {
     "name": "stdout",
     "output_type": "stream",
     "text": [
      "0.8308121932893137\n"
     ]
    }
   ],
   "source": [
    "rf = RandomForestClassifier(max_depth=7, max_features=6)\n",
    "rf.fit(X,y)\n",
    "print(np.mean(cross_val_score(rf, X, y.values, scoring='roc_auc')))"
   ]
  },
  {
   "cell_type": "markdown",
   "metadata": {},
   "source": [
    "### NB"
   ]
  },
  {
   "cell_type": "markdown",
   "metadata": {},
   "source": [
    "*It works with pd Dataframes*"
   ]
  },
  {
   "cell_type": "code",
   "execution_count": null,
   "metadata": {},
   "outputs": [],
   "source": []
  }
 ],
 "metadata": {
  "kernelspec": {
   "display_name": "Python 3",
   "language": "python",
   "name": "python3"
  },
  "language_info": {
   "codemirror_mode": {
    "name": "ipython",
    "version": 3
   },
   "file_extension": ".py",
   "mimetype": "text/x-python",
   "name": "python",
   "nbconvert_exporter": "python",
   "pygments_lexer": "ipython3",
   "version": "3.6.5"
  }
 },
 "nbformat": 4,
 "nbformat_minor": 2
}
